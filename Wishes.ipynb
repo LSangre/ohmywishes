{
 "cells": [
  {
   "cell_type": "code",
   "execution_count": 1,
   "metadata": {},
   "outputs": [
    {
     "name": "stderr",
     "output_type": "stream",
     "text": [
      "Using Russia server backend.\n"
     ]
    }
   ],
   "source": [
    "import pandas as pd\n",
    "import pymorphy2\n",
    "import re\n",
    "import transliterate as tr\n",
    "import seaborn as sns\n",
    "import numpy as np\n",
    "import spacy\n",
    "from sklearn.cluster import KMeans\n",
    "import helpers"
   ]
  },
  {
   "cell_type": "code",
   "execution_count": 2,
   "metadata": {},
   "outputs": [
    {
     "name": "stdout",
     "output_type": "stream",
     "text": [
      "13941\n"
     ]
    }
   ],
   "source": [
    "profiles_cols = ['id', 'firstname', 'lastname', 'sex', 'birthday']\n",
    "profiles = pd.read_csv('data/db/users.csv', usecols=profiles_cols)\n",
    "print(len(profiles))"
   ]
  },
  {
   "cell_type": "code",
   "execution_count": 3,
   "metadata": {},
   "outputs": [
    {
     "name": "stdout",
     "output_type": "stream",
     "text": [
      "not set:  8286\n",
      "f    4001\n",
      "m    1654\n",
      "Name: sex, dtype: int64\n"
     ]
    },
    {
     "data": {
      "text/plain": "<seaborn.axisgrid.FacetGrid at 0x7fea58179790>"
     },
     "execution_count": 3,
     "metadata": {},
     "output_type": "execute_result"
    },
    {
     "data": {
      "text/plain": "<Figure size 360x360 with 1 Axes>",
      "image/png": "[encoded data removed]"
     },
     "metadata": {
      "needs_background": "light"
     },
     "output_type": "display_data"
    }
   ],
   "source": [
    "without_sex = profiles[profiles['sex'].isnull()]\n",
    "print('not set: ', without_sex['id'].count())\n",
    "print(profiles['sex'].value_counts())\n",
    "\n",
    "sns.catplot(x=\"sex\", kind=\"count\", data=profiles)"
   ]
  },
  {
   "cell_type": "code",
   "execution_count": 4,
   "metadata": {},
   "outputs": [
    {
     "name": "stdout",
     "output_type": "stream",
     "text": [
      "ru names: 4791\n",
      "ru surnames: 37708\n",
      "us names: 4043\n",
      "us surnames: 15347\n",
      "total names: 8834\n",
      "total surnames: 53055\n"
     ]
    }
   ],
   "source": [
    "ru_names = pd.read_json('data/names_table.jsonl', lines=True)\n",
    "ru_names = ru_names[ru_names['gender'] != 'u']\n",
    "print('ru names:', len(ru_names))\n",
    "\n",
    "ru_surnames = pd.read_json('data/surnames_table.jsonl', lines=True)\n",
    "ru_surnames = ru_surnames[ru_surnames['gender'] != 'u']\n",
    "print('ru surnames:', len(ru_surnames))\n",
    "\n",
    "names = ru_names.set_index('text')['gender'].to_dict()\n",
    "surnames = ru_surnames.set_index('text')['gender'].to_dict()\n",
    "\n",
    "us_names = pd.read_csv('data/fake_us_names.csv')\n",
    "us_name_gender = us_names.set_index('GivenName')['Gender'].to_dict()\n",
    "for name in us_name_gender.keys():\n",
    "    us_name_gender[name] = us_name_gender[name][0]\n",
    "    \n",
    "print('us names:', len(us_name_gender.keys()))\n",
    "names.update(us_name_gender)\n",
    "\n",
    "us_surname_gender = us_names.set_index('Surname')['Gender'].to_dict()\n",
    "for name in us_surname_gender.keys():\n",
    "    us_surname_gender[name] = us_surname_gender[name][0]\n",
    "print('us surnames:', len(us_surname_gender.keys()))\n",
    "surnames.update(us_surname_gender)\n",
    "\n",
    "print('total names:', len(names))\n",
    "print('total surnames:', len(surnames))"
   ]
  },
  {
   "cell_type": "code",
   "execution_count": 5,
   "metadata": {},
   "outputs": [
    {
     "name": "stdout",
     "output_type": "stream",
     "text": [
      "7998 gender is set\n"
     ]
    }
   ],
   "source": [
    "df = profiles[['firstname', 'lastname', 'sex']]\n",
    "df = df.to_dict(\"records\")\n",
    "\n",
    "ru_morph = pymorphy2.MorphAnalyzer(lang='ru')\n",
    "gender_list = []\n",
    "gender_count = 0\n",
    "\n",
    "for row in df:\n",
    "    if pd.isna(row['sex']):\n",
    "        name = str(row['firstname'])\n",
    "        name = name[0].upper() + name[1:].lower()\n",
    "        gender = names.get(name)\n",
    "        \n",
    "        if not gender:\n",
    "            surname = str(row['lastname'])\n",
    "            surname = surname[0].upper() + surname[1:].lower()\n",
    "            gender = surnames.get(surname)\n",
    "            \n",
    "        if not gender and not bool(re.search('[а-яА-Я]', name)):\n",
    "            name = tr.translit(name, 'ru')\n",
    "            gender = names.get(name)\n",
    "        \n",
    "        \n",
    "        if not gender:\n",
    "            parsed_word = ru_morph.parse(name)[0]\n",
    "            parsed_gender = parsed_word.tag.gender\n",
    "            if parsed_gender and parsed_gender[0] != 'n':\n",
    "                gender = parsed_gender[0]\n",
    "                   \n",
    "        if gender:\n",
    "            gender_count += 1   \n",
    "    else:\n",
    "        gender = row['sex']\n",
    "            \n",
    "    gender_list.append(gender)\n",
    "\n",
    "profiles['sex'] = gender_list\n",
    "print(gender_count, 'gender is set')"
   ]
  },
  {
   "cell_type": "code",
   "execution_count": 6,
   "metadata": {},
   "outputs": [
    {
     "name": "stdout",
     "output_type": "stream",
     "text": [
      "not set:  288\n",
      "f    9724\n",
      "m    3929\n",
      "Name: sex, dtype: int64\n"
     ]
    },
    {
     "data": {
      "text/plain": "<seaborn.axisgrid.FacetGrid at 0x7feae00e4850>"
     },
     "execution_count": 6,
     "metadata": {},
     "output_type": "execute_result"
    },
    {
     "data": {
      "text/plain": "<Figure size 360x360 with 1 Axes>",
      "image/png": "[encoded data removed]"
     },
     "metadata": {
      "needs_background": "light"
     },
     "output_type": "display_data"
    }
   ],
   "source": [
    "without_sex = profiles[profiles['sex'].isnull()]\n",
    "\n",
    "print('not set: ', without_sex['id'].count())\n",
    "print(profiles['sex'].value_counts())\n",
    "\n",
    "sns.catplot(x=\"sex\", kind=\"count\", data=profiles)"
   ]
  },
  {
   "cell_type": "code",
   "execution_count": 7,
   "metadata": {},
   "outputs": [
    {
     "data": {
      "text/plain": "                         id                       ctime  \\\n0  591cb63b314b62000f186f41  2017-05-17 20:44:43.000000   \n1  5929c6a11bfc73000f07774d  2017-05-27 18:34:09.000000   \n2  592e6636424d49000ffc4a93  2017-05-31 06:44:06.000000   \n3  592fe527424d49000ffc4aaf  2017-06-01 09:57:59.000000   \n4  59536890c5fcf0000f7b71ec  2017-06-28 08:28:00.000000   \n\n                        mtime                creator_id  \\\n0  2017-05-31 09:20:21.000000  59161d458ef861000f59f975   \n1  2017-05-27 18:34:09.000000  59161d458ef861000f59f975   \n2  2017-05-31 07:22:01.000000  591831f18ef861000f59f981   \n3  2017-06-21 09:09:31.000000  59161d458ef861000f59f975   \n4  2017-06-28 08:28:00.000000  59161d458ef861000f59f975   \n\n                                               title           description  \\\n0                                             No Pic                   NaN   \n1                                          Private!!  my very private wish   \n2                                                 xx                   NaN   \n3  https://www.amazon.com/dp/B015TJD0Y4/ref=ods_g...                   NaN   \n4                                     Apple HomePod                    NaN   \n\n     price    color link  is_private  is_fulfilled currency  \\\n0   1000.0  #02b7b3  NaN       False         False      RUB   \n1  10000.0  #4a4a4a  NaN        True         False      RUB   \n2      NaN  #782d92  NaN       False          True      RUB   \n3      NaN  #B24D00  NaN       False         False      RUB   \n4      NaN  #008c79  NaN       False         False      RUB   \n\n                assignee_id  is_idea parent_wish_id  is_from_idea  is_deleted  \\\n0  591774818ef861000f59f97f    False            NaN         False       False   \n1                       NaN    False            NaN         False       False   \n2                       NaN    False            NaN         False       False   \n3                       NaN    False            NaN         False       False   \n4                       NaN    False            NaN         False       False   \n\n   photo_id  \n0       NaN  \n1       NaN  \n2       NaN  \n3       NaN  \n4       NaN  ",
      "text/html": "<div>\n<style scoped>\n    .dataframe tbody tr th:only-of-type {\n        vertical-align: middle;\n    }\n\n    .dataframe tbody tr th {\n        vertical-align: top;\n    }\n\n    .dataframe thead th {\n        text-align: right;\n    }\n</style>\n<table border=\"1\" class=\"dataframe\">\n  <thead>\n    <tr style=\"text-align: right;\">\n      <th></th>\n      <th>id</th>\n      <th>ctime</th>\n      <th>mtime</th>\n      <th>creator_id</th>\n      <th>title</th>\n      <th>description</th>\n      <th>price</th>\n      <th>color</th>\n      <th>link</th>\n      <th>is_private</th>\n      <th>is_fulfilled</th>\n      <th>currency</th>\n      <th>assignee_id</th>\n      <th>is_idea</th>\n      <th>parent_wish_id</th>\n      <th>is_from_idea</th>\n      <th>is_deleted</th>\n      <th>photo_id</th>\n    </tr>\n  </thead>\n  <tbody>\n    <tr>\n      <th>0</th>\n      <td>591cb63b314b62000f186f41</td>\n      <td>2017-05-17 20:44:43.000000</td>\n      <td>2017-05-31 09:20:21.000000</td>\n      <td>59161d458ef861000f59f975</td>\n      <td>No Pic</td>\n      <td>NaN</td>\n      <td>1000.0</td>\n      <td>#02b7b3</td>\n      <td>NaN</td>\n      <td>False</td>\n      <td>False</td>\n      <td>RUB</td>\n      <td>591774818ef861000f59f97f</td>\n      <td>False</td>\n      <td>NaN</td>\n      <td>False</td>\n      <td>False</td>\n      <td>NaN</td>\n    </tr>\n    <tr>\n      <th>1</th>\n      <td>5929c6a11bfc73000f07774d</td>\n      <td>2017-05-27 18:34:09.000000</td>\n      <td>2017-05-27 18:34:09.000000</td>\n      <td>59161d458ef861000f59f975</td>\n      <td>Private!!</td>\n      <td>my very private wish</td>\n      <td>10000.0</td>\n      <td>#4a4a4a</td>\n      <td>NaN</td>\n      <td>True</td>\n      <td>False</td>\n      <td>RUB</td>\n      <td>NaN</td>\n      <td>False</td>\n      <td>NaN</td>\n      <td>False</td>\n      <td>False</td>\n      <td>NaN</td>\n    </tr>\n    <tr>\n      <th>2</th>\n      <td>592e6636424d49000ffc4a93</td>\n      <td>2017-05-31 06:44:06.000000</td>\n      <td>2017-05-31 07:22:01.000000</td>\n      <td>591831f18ef861000f59f981</td>\n      <td>xx</td>\n      <td>NaN</td>\n      <td>NaN</td>\n      <td>#782d92</td>\n      <td>NaN</td>\n      <td>False</td>\n      <td>True</td>\n      <td>RUB</td>\n      <td>NaN</td>\n      <td>False</td>\n      <td>NaN</td>\n      <td>False</td>\n      <td>False</td>\n      <td>NaN</td>\n    </tr>\n    <tr>\n      <th>3</th>\n      <td>592fe527424d49000ffc4aaf</td>\n      <td>2017-06-01 09:57:59.000000</td>\n      <td>2017-06-21 09:09:31.000000</td>\n      <td>59161d458ef861000f59f975</td>\n      <td>https://www.amazon.com/dp/B015TJD0Y4/ref=ods_g...</td>\n      <td>NaN</td>\n      <td>NaN</td>\n      <td>#B24D00</td>\n      <td>NaN</td>\n      <td>False</td>\n      <td>False</td>\n      <td>RUB</td>\n      <td>NaN</td>\n      <td>False</td>\n      <td>NaN</td>\n      <td>False</td>\n      <td>False</td>\n      <td>NaN</td>\n    </tr>\n    <tr>\n      <th>4</th>\n      <td>59536890c5fcf0000f7b71ec</td>\n      <td>2017-06-28 08:28:00.000000</td>\n      <td>2017-06-28 08:28:00.000000</td>\n      <td>59161d458ef861000f59f975</td>\n      <td>Apple HomePod</td>\n      <td>NaN</td>\n      <td>NaN</td>\n      <td>#008c79</td>\n      <td>NaN</td>\n      <td>False</td>\n      <td>False</td>\n      <td>RUB</td>\n      <td>NaN</td>\n      <td>False</td>\n      <td>NaN</td>\n      <td>False</td>\n      <td>False</td>\n      <td>NaN</td>\n    </tr>\n  </tbody>\n</table>\n</div>"
     },
     "execution_count": 7,
     "metadata": {},
     "output_type": "execute_result"
    }
   ],
   "source": [
    "wishes = pd.read_csv('data/db/wishes.csv')\n",
    "wishes.head()"
   ]
  },
  {
   "cell_type": "code",
   "execution_count": 8,
   "metadata": {},
   "outputs": [
    {
     "name": "stdout",
     "output_type": "stream",
     "text": [
      "all wishes: 87845\n",
      "no assignee: 79938\n",
      "\n",
      "Fulfilled wishes\n",
      "False    76438\n",
      "True     11407\n",
      "Name: is_fulfilled, dtype: int64\n"
     ]
    }
   ],
   "source": [
    "print('all wishes:', wishes['id'].count())\n",
    "print('no assignee:', wishes[wishes['assignee_id'].isnull()]['id'].count())\n",
    "\n",
    "print('\\nFulfilled wishes')\n",
    "print(wishes['is_fulfilled'].value_counts())"
   ]
  },
  {
   "cell_type": "code",
   "execution_count": 9,
   "outputs": [
    {
     "name": "stdout",
     "output_type": "stream",
     "text": [
      "All wishes\n"
     ]
    },
    {
     "data": {
      "text/plain": "Книга                                                     346\nСумка                                                     338\nСерьги                                                    270\nСтайлер Dyson Airwrap Complete с сумкой и чехлом          239\nКольцо                                                    229\nApple Apple AirPods                                       227\nДухи                                                      184\nПортативный ультразвуковой увлажнитель воздуха, 300 мл    139\nApple AirPods Pro                                         138\nApple Watch 4                                             132\nПижама                                                    131\nПостельное белье                                          121\nФутболка                                                  121\nБраслет                                                   119\nПлатье                                                    115\nЧасы                                                      115\nКлассный подарок                                          115\nРюкзак                                                    102\nБутылка для изготовления льда Kumma                        94\nУвлажнитель воздуха                                        92\nName: title, dtype: int64"
     },
     "execution_count": 9,
     "metadata": {},
     "output_type": "execute_result"
    }
   ],
   "source": [
    "print('All wishes')\n",
    "wishes['title'].value_counts()[:20]"
   ],
   "metadata": {
    "collapsed": false,
    "pycharm": {
     "name": "#%%\n"
    }
   }
  },
  {
   "cell_type": "code",
   "source": [
    "print('Fulfilled wishes')\n",
    "wishes[wishes['is_fulfilled'] == True]['title'].value_counts()[:20]"
   ],
   "metadata": {
    "collapsed": false,
    "pycharm": {
     "name": "#%%\n"
    }
   },
   "execution_count": 10,
   "outputs": [
    {
     "name": "stdout",
     "output_type": "stream",
     "text": [
      "Fulfilled wishes\n"
     ]
    },
    {
     "data": {
      "text/plain": "Книга                  51\nСерьги                 36\nСумка                  30\nApple Apple AirPods    30\nРюкзак                 28\nДухи                   28\nУвлажнитель воздуха    18\nНаушники               17\nПижама                 17\nКоврик для йоги        16\nКольцо                 15\nAirPods Pro            15\nФутболка               14\nПарфюм                 14\nПостельное белье       12\nСвеча                  12\nБраслет                12\nApple Watch            12\nМаска для сна          11\nЧасы                   11\nName: title, dtype: int64"
     },
     "execution_count": 10,
     "metadata": {},
     "output_type": "execute_result"
    }
   ]
  },
  {
   "cell_type": "code",
   "execution_count": 11,
   "metadata": {},
   "outputs": [
    {
     "name": "stdout",
     "output_type": "stream",
     "text": [
      "not set:  9310\n"
     ]
    },
    {
     "data": {
      "text/plain": "<seaborn.axisgrid.FacetGrid at 0x7fea5a894ca0>"
     },
     "execution_count": 11,
     "metadata": {},
     "output_type": "execute_result"
    },
    {
     "data": {
      "text/plain": "<Figure size 360x360 with 1 Axes>",
      "image/png": "[encoded data removed]"
     },
     "metadata": {
      "needs_background": "light"
     },
     "output_type": "display_data"
    }
   ],
   "source": [
    "def get_year(value):\n",
    "    if pd.isna(value):\n",
    "        return value\n",
    "    return int(str(value).split('-')[0])\n",
    "\n",
    "profiles['year'] = profiles.apply(lambda row: get_year(row['birthday']), axis=1)\n",
    "\n",
    "without_birthday = profiles[profiles['birthday'].isnull()]\n",
    "print('not set: ', without_birthday['id'].count())\n",
    "\n",
    "sns.displot(profiles[\"year\"], binwidth=10, binrange=[1920,2021])"
   ]
  },
  {
   "cell_type": "code",
   "execution_count": 12,
   "metadata": {},
   "outputs": [
    {
     "data": {
      "text/plain": "                       id_x                       ctime  \\\n0  591cb63b314b62000f186f41  2017-05-17 20:44:43.000000   \n1  5929c6a11bfc73000f07774d  2017-05-27 18:34:09.000000   \n2  592fe527424d49000ffc4aaf  2017-06-01 09:57:59.000000   \n3  59536890c5fcf0000f7b71ec  2017-06-28 08:28:00.000000   \n4  5981df67f03a9e000ff0dde9  2017-08-02 14:19:19.000000   \n\n                        mtime                creator_id  \\\n0  2017-05-31 09:20:21.000000  59161d458ef861000f59f975   \n1  2017-05-27 18:34:09.000000  59161d458ef861000f59f975   \n2  2017-06-21 09:09:31.000000  59161d458ef861000f59f975   \n3  2017-06-28 08:28:00.000000  59161d458ef861000f59f975   \n4  2017-08-02 14:19:24.000000  59161d458ef861000f59f975   \n\n                                               title           description  \\\n0                                             No Pic                   NaN   \n1                                          Private!!  my very private wish   \n2  https://www.amazon.com/dp/B015TJD0Y4/ref=ods_g...                   NaN   \n3                                     Apple HomePod                    NaN   \n4                                                ttt                   123   \n\n     price    color link  is_private  ...  parent_wish_id is_from_idea  \\\n0   1000.0  #02b7b3  NaN       False  ...             NaN        False   \n1  10000.0  #4a4a4a  NaN        True  ...             NaN        False   \n2      NaN  #B24D00  NaN       False  ...             NaN        False   \n3      NaN  #008c79  NaN       False  ...             NaN        False   \n4    123.0  #008c79  NaN        True  ...             NaN        False   \n\n  is_deleted  photo_id                      id_y    birthday  sex   lastname  \\\n0      False       NaN  59161d458ef861000f59f975  1989-11-07    m  Vassilyev   \n1      False       NaN  59161d458ef861000f59f975  1989-11-07    m  Vassilyev   \n2      False       NaN  59161d458ef861000f59f975  1989-11-07    m  Vassilyev   \n3      False       NaN  59161d458ef861000f59f975  1989-11-07    m  Vassilyev   \n4      False       NaN  59161d458ef861000f59f975  1989-11-07    m  Vassilyev   \n\n  firstname    year  \n0    Sergey  1989.0  \n1    Sergey  1989.0  \n2    Sergey  1989.0  \n3    Sergey  1989.0  \n4    Sergey  1989.0  \n\n[5 rows x 24 columns]",
      "text/html": "<div>\n<style scoped>\n    .dataframe tbody tr th:only-of-type {\n        vertical-align: middle;\n    }\n\n    .dataframe tbody tr th {\n        vertical-align: top;\n    }\n\n    .dataframe thead th {\n        text-align: right;\n    }\n</style>\n<table border=\"1\" class=\"dataframe\">\n  <thead>\n    <tr style=\"text-align: right;\">\n      <th></th>\n      <th>id_x</th>\n      <th>ctime</th>\n      <th>mtime</th>\n      <th>creator_id</th>\n      <th>title</th>\n      <th>description</th>\n      <th>price</th>\n      <th>color</th>\n      <th>link</th>\n      <th>is_private</th>\n      <th>...</th>\n      <th>parent_wish_id</th>\n      <th>is_from_idea</th>\n      <th>is_deleted</th>\n      <th>photo_id</th>\n      <th>id_y</th>\n      <th>birthday</th>\n      <th>sex</th>\n      <th>lastname</th>\n      <th>firstname</th>\n      <th>year</th>\n    </tr>\n  </thead>\n  <tbody>\n    <tr>\n      <th>0</th>\n      <td>591cb63b314b62000f186f41</td>\n      <td>2017-05-17 20:44:43.000000</td>\n      <td>2017-05-31 09:20:21.000000</td>\n      <td>59161d458ef861000f59f975</td>\n      <td>No Pic</td>\n      <td>NaN</td>\n      <td>1000.0</td>\n      <td>#02b7b3</td>\n      <td>NaN</td>\n      <td>False</td>\n      <td>...</td>\n      <td>NaN</td>\n      <td>False</td>\n      <td>False</td>\n      <td>NaN</td>\n      <td>59161d458ef861000f59f975</td>\n      <td>1989-11-07</td>\n      <td>m</td>\n      <td>Vassilyev</td>\n      <td>Sergey</td>\n      <td>1989.0</td>\n    </tr>\n    <tr>\n      <th>1</th>\n      <td>5929c6a11bfc73000f07774d</td>\n      <td>2017-05-27 18:34:09.000000</td>\n      <td>2017-05-27 18:34:09.000000</td>\n      <td>59161d458ef861000f59f975</td>\n      <td>Private!!</td>\n      <td>my very private wish</td>\n      <td>10000.0</td>\n      <td>#4a4a4a</td>\n      <td>NaN</td>\n      <td>True</td>\n      <td>...</td>\n      <td>NaN</td>\n      <td>False</td>\n      <td>False</td>\n      <td>NaN</td>\n      <td>59161d458ef861000f59f975</td>\n      <td>1989-11-07</td>\n      <td>m</td>\n      <td>Vassilyev</td>\n      <td>Sergey</td>\n      <td>1989.0</td>\n    </tr>\n    <tr>\n      <th>2</th>\n      <td>592fe527424d49000ffc4aaf</td>\n      <td>2017-06-01 09:57:59.000000</td>\n      <td>2017-06-21 09:09:31.000000</td>\n      <td>59161d458ef861000f59f975</td>\n      <td>https://www.amazon.com/dp/B015TJD0Y4/ref=ods_g...</td>\n      <td>NaN</td>\n      <td>NaN</td>\n      <td>#B24D00</td>\n      <td>NaN</td>\n      <td>False</td>\n      <td>...</td>\n      <td>NaN</td>\n      <td>False</td>\n      <td>False</td>\n      <td>NaN</td>\n      <td>59161d458ef861000f59f975</td>\n      <td>1989-11-07</td>\n      <td>m</td>\n      <td>Vassilyev</td>\n      <td>Sergey</td>\n      <td>1989.0</td>\n    </tr>\n    <tr>\n      <th>3</th>\n      <td>59536890c5fcf0000f7b71ec</td>\n      <td>2017-06-28 08:28:00.000000</td>\n      <td>2017-06-28 08:28:00.000000</td>\n      <td>59161d458ef861000f59f975</td>\n      <td>Apple HomePod</td>\n      <td>NaN</td>\n      <td>NaN</td>\n      <td>#008c79</td>\n      <td>NaN</td>\n      <td>False</td>\n      <td>...</td>\n      <td>NaN</td>\n      <td>False</td>\n      <td>False</td>\n      <td>NaN</td>\n      <td>59161d458ef861000f59f975</td>\n      <td>1989-11-07</td>\n      <td>m</td>\n      <td>Vassilyev</td>\n      <td>Sergey</td>\n      <td>1989.0</td>\n    </tr>\n    <tr>\n      <th>4</th>\n      <td>5981df67f03a9e000ff0dde9</td>\n      <td>2017-08-02 14:19:19.000000</td>\n      <td>2017-08-02 14:19:24.000000</td>\n      <td>59161d458ef861000f59f975</td>\n      <td>ttt</td>\n      <td>123</td>\n      <td>123.0</td>\n      <td>#008c79</td>\n      <td>NaN</td>\n      <td>True</td>\n      <td>...</td>\n      <td>NaN</td>\n      <td>False</td>\n      <td>False</td>\n      <td>NaN</td>\n      <td>59161d458ef861000f59f975</td>\n      <td>1989-11-07</td>\n      <td>m</td>\n      <td>Vassilyev</td>\n      <td>Sergey</td>\n      <td>1989.0</td>\n    </tr>\n  </tbody>\n</table>\n<p>5 rows × 24 columns</p>\n</div>"
     },
     "execution_count": 12,
     "metadata": {},
     "output_type": "execute_result"
    }
   ],
   "source": [
    "wishes = helpers.filter_wishes(wishes)\n",
    "df = pd.merge(wishes, profiles, left_on='creator_id', right_on='id')\n",
    "df.head()"
   ]
  },
  {
   "cell_type": "code",
   "execution_count": 13,
   "metadata": {},
   "outputs": [
    {
     "name": "stdout",
     "output_type": "stream",
     "text": [
      "Male wishes: \n",
      "\n",
      "Apple Apple AirPods                                  61\n",
      "Увлажнитель воздуха Xaiomi                           56\n",
      "Ноутбук Apple MacBook Pro 16 TB i7 2.6/16/512 SSD    42\n",
      "Bose SoundLink Revolve Tripple Black                 40\n",
      "Apple AirPods Pro                                    36\n",
      "Подушка Casper                                       34\n",
      "Apple Watch 4                                        30\n",
      "Стайлер Dyson Airwrap Complete с сумкой и чехлом     27\n",
      "Бутылка для изготовления льда Kumma                  26\n",
      "Лампа Casper                                         26\n",
      "Name: title, dtype: int64\n",
      "\n",
      "\n",
      "Female wishes: \n",
      "\n",
      "Книга                                                     317\n",
      "Сумка                                                     315\n",
      "Серьги                                                    249\n",
      "Кольцо                                                    209\n",
      "Стайлер Dyson Airwrap Complete с сумкой и чехлом          207\n",
      "Apple Apple AirPods                                       166\n",
      "Духи                                                      162\n",
      "Портативный ультразвуковой увлажнитель воздуха, 300 мл    119\n",
      "Постельное белье                                          117\n",
      "Пижама                                                    116\n",
      "Name: title, dtype: int64\n"
     ]
    }
   ],
   "source": [
    "print('Male wishes: \\n')\n",
    "print(df[df['sex']=='m']['title'].value_counts()[:10])\n",
    "\n",
    "print('\\n\\nFemale wishes: \\n')\n",
    "print(df[df['sex']=='f']['title'].value_counts()[:10])"
   ]
  },
  {
   "cell_type": "code",
   "execution_count": 14,
   "metadata": {},
   "outputs": [
    {
     "data": {
      "text/plain": "                                                  title  \\\n28778  Стайлер Dyson Airwrap Complete с сумкой и чехлом   \n602                                 Apple Apple AirPods   \n661                                       Apple Watch 4   \n582                                   Apple AirPods Pro   \n9646                Бутылка для изготовления льда Kumma   \n23167                                    Пижама женская   \n10177       Виниловый проигрыватель Alive Audio VINTAGE   \n7571                                      Акваферма 2.0   \n4228                                              OYSHO   \n5883                                  Victoria's Secret   \n\n                                             description  counts  \n28778  Самый популярный подарок для обладательниц шик...     230  \n602    Наушники Apple AirPods – это первый беспроводн...     221  \n661    Apple Watch Series 4. Часы с абсолютно новым д...     131  \n582    Apple AirPods Pro with Wireless Case – первые ...     124  \n9646   Идеально круглые кусочки льда просто и без уси...      92  \n23167    100% вискоза, брюки и рубашка с длинным рукавом      85  \n10177  Проигрыватель Alive Audio Vintage оформлен в с...      80  \n7571   Акваферма представляет собой экосистему, где п...      77  \n4228   Сертификат в любимый многими магазин домашней ...      75  \n5883   Есть подарочные наборы с парфюмерией, пижамы, ...      73  ",
      "text/html": "<div>\n<style scoped>\n    .dataframe tbody tr th:only-of-type {\n        vertical-align: middle;\n    }\n\n    .dataframe tbody tr th {\n        vertical-align: top;\n    }\n\n    .dataframe thead th {\n        text-align: right;\n    }\n</style>\n<table border=\"1\" class=\"dataframe\">\n  <thead>\n    <tr style=\"text-align: right;\">\n      <th></th>\n      <th>title</th>\n      <th>description</th>\n      <th>counts</th>\n    </tr>\n  </thead>\n  <tbody>\n    <tr>\n      <th>28778</th>\n      <td>Стайлер Dyson Airwrap Complete с сумкой и чехлом</td>\n      <td>Самый популярный подарок для обладательниц шик...</td>\n      <td>230</td>\n    </tr>\n    <tr>\n      <th>602</th>\n      <td>Apple Apple AirPods</td>\n      <td>Наушники Apple AirPods – это первый беспроводн...</td>\n      <td>221</td>\n    </tr>\n    <tr>\n      <th>661</th>\n      <td>Apple Watch 4</td>\n      <td>Apple Watch Series 4. Часы с абсолютно новым д...</td>\n      <td>131</td>\n    </tr>\n    <tr>\n      <th>582</th>\n      <td>Apple AirPods Pro</td>\n      <td>Apple AirPods Pro with Wireless Case – первые ...</td>\n      <td>124</td>\n    </tr>\n    <tr>\n      <th>9646</th>\n      <td>Бутылка для изготовления льда Kumma</td>\n      <td>Идеально круглые кусочки льда просто и без уси...</td>\n      <td>92</td>\n    </tr>\n    <tr>\n      <th>23167</th>\n      <td>Пижама женская</td>\n      <td>100% вискоза, брюки и рубашка с длинным рукавом</td>\n      <td>85</td>\n    </tr>\n    <tr>\n      <th>10177</th>\n      <td>Виниловый проигрыватель Alive Audio VINTAGE</td>\n      <td>Проигрыватель Alive Audio Vintage оформлен в с...</td>\n      <td>80</td>\n    </tr>\n    <tr>\n      <th>7571</th>\n      <td>Акваферма 2.0</td>\n      <td>Акваферма представляет собой экосистему, где п...</td>\n      <td>77</td>\n    </tr>\n    <tr>\n      <th>4228</th>\n      <td>OYSHO</td>\n      <td>Сертификат в любимый многими магазин домашней ...</td>\n      <td>75</td>\n    </tr>\n    <tr>\n      <th>5883</th>\n      <td>Victoria's Secret</td>\n      <td>Есть подарочные наборы с парфюмерией, пижамы, ...</td>\n      <td>73</td>\n    </tr>\n  </tbody>\n</table>\n</div>"
     },
     "execution_count": 14,
     "metadata": {},
     "output_type": "execute_result"
    }
   ],
   "source": [
    "wishes_stat =  wishes.groupby(['title', 'description'])\\\n",
    "    .size().reset_index(name='counts')\\\n",
    "    .sort_values(['counts', 'title'], ascending=[False, True])\n",
    "\n",
    "wishes_stat[:10]"
   ]
  },
  {
   "cell_type": "code",
   "execution_count": 15,
   "metadata": {},
   "outputs": [
    {
     "name": "stdout",
     "output_type": "stream",
     "text": [
      "all wishes: 87561\n",
      "different wishes: 36485\n",
      "\n",
      "Unique values:\n",
      "title          61371\n",
      "description    33626\n",
      "link           42306\n",
      "dtype: int64\n"
     ]
    }
   ],
   "source": [
    "print('all wishes:', len(wishes))\n",
    "print('different wishes:', len(wishes_stat))\n",
    "\n",
    "print('\\nUnique values:')\n",
    "print(wishes[['title', 'description', 'link']].nunique())"
   ]
  },
  {
   "cell_type": "code",
   "execution_count": 16,
   "metadata": {},
   "outputs": [
    {
     "data": {
      "text/plain": "                         id    birthday  sex     lastname    firstname    year\n0  5bfd324ce5ea70001b661f3e         NaN    1    Patrakhin      Mikhail     0.0\n1  5bfd32bee5ea7000d9061a27  1983-01-12    1       Кутеев        Слава  1983.0\n2  5bfd3cdee5ea7000d9061a29         NaN    1     Sabitsky  Constantine     0.0\n3  5bfd3d1ee5ea70001212784a         NaN    2  Velikodneva         Lena     0.0\n4  5c02a879e5ea7000d9061a4b         NaN    1      Борозов        Морис     0.0",
      "text/html": "<div>\n<style scoped>\n    .dataframe tbody tr th:only-of-type {\n        vertical-align: middle;\n    }\n\n    .dataframe tbody tr th {\n        vertical-align: top;\n    }\n\n    .dataframe thead th {\n        text-align: right;\n    }\n</style>\n<table border=\"1\" class=\"dataframe\">\n  <thead>\n    <tr style=\"text-align: right;\">\n      <th></th>\n      <th>id</th>\n      <th>birthday</th>\n      <th>sex</th>\n      <th>lastname</th>\n      <th>firstname</th>\n      <th>year</th>\n    </tr>\n  </thead>\n  <tbody>\n    <tr>\n      <th>0</th>\n      <td>5bfd324ce5ea70001b661f3e</td>\n      <td>NaN</td>\n      <td>1</td>\n      <td>Patrakhin</td>\n      <td>Mikhail</td>\n      <td>0.0</td>\n    </tr>\n    <tr>\n      <th>1</th>\n      <td>5bfd32bee5ea7000d9061a27</td>\n      <td>1983-01-12</td>\n      <td>1</td>\n      <td>Кутеев</td>\n      <td>Слава</td>\n      <td>1983.0</td>\n    </tr>\n    <tr>\n      <th>2</th>\n      <td>5bfd3cdee5ea7000d9061a29</td>\n      <td>NaN</td>\n      <td>1</td>\n      <td>Sabitsky</td>\n      <td>Constantine</td>\n      <td>0.0</td>\n    </tr>\n    <tr>\n      <th>3</th>\n      <td>5bfd3d1ee5ea70001212784a</td>\n      <td>NaN</td>\n      <td>2</td>\n      <td>Velikodneva</td>\n      <td>Lena</td>\n      <td>0.0</td>\n    </tr>\n    <tr>\n      <th>4</th>\n      <td>5c02a879e5ea7000d9061a4b</td>\n      <td>NaN</td>\n      <td>1</td>\n      <td>Борозов</td>\n      <td>Морис</td>\n      <td>0.0</td>\n    </tr>\n  </tbody>\n</table>\n</div>"
     },
     "execution_count": 16,
     "metadata": {},
     "output_type": "execute_result"
    }
   ],
   "source": [
    "def convert_gender(row):\n",
    "    if pd.isna(row['sex']):\n",
    "        return 0\n",
    "    if row['sex'] == 'm':\n",
    "        return 1\n",
    "    if row['sex'] == 'f':\n",
    "        return 2\n",
    "    \n",
    "def convert_year(year):\n",
    "    if pd.isna(year) or year < 1950:\n",
    "        return 0\n",
    "    return year\n",
    "\n",
    "\n",
    "profiles['sex'] = profiles.apply(lambda row: convert_gender(row), axis=1)\n",
    "profiles['year'] = profiles.apply(lambda row: convert_year(row['year']), axis=1)\n",
    "profiles.head()"
   ]
  },
  {
   "cell_type": "code",
   "execution_count": 17,
   "metadata": {},
   "outputs": [],
   "source": [
    "profiles_data = profiles[['sex', 'year']]\n",
    "cluster_count = 6\n",
    "kmeans = KMeans(n_clusters=cluster_count, random_state=0).fit(profiles_data)\n",
    "profiles['label'] = list(kmeans.labels_)"
   ]
  },
  {
   "cell_type": "code",
   "execution_count": 18,
   "outputs": [
    {
     "name": "stdout",
     "output_type": "stream",
     "text": [
      "Label 0:\n",
      "    sex    year\n",
      "10    2  1996.0\n",
      "11    1  1994.0\n",
      "20    2  1998.0\n",
      "23    2  1994.0\n",
      "26    2  1997.0\n",
      "43    2  1993.0\n",
      "54    1  1995.0\n",
      "55    1  1997.0\n",
      "68    2  1993.0\n",
      "71    1  1994.0\n",
      "\n",
      "\n",
      "\n",
      "Label 1:\n",
      "    sex  year\n",
      "0     1   0.0\n",
      "2     1   0.0\n",
      "3     2   0.0\n",
      "4     1   0.0\n",
      "7     1   0.0\n",
      "9     1   0.0\n",
      "12    2   0.0\n",
      "13    2   0.0\n",
      "16    0   0.0\n",
      "17    2   0.0\n",
      "\n",
      "\n",
      "\n",
      "Label 2:\n",
      "     sex    year\n",
      "5      2  1999.0\n",
      "45     2  1999.0\n",
      "62     2  2002.0\n",
      "66     2  1999.0\n",
      "79     1  1999.0\n",
      "104    2  2000.0\n",
      "105    2  1999.0\n",
      "113    2  1999.0\n",
      "130    2  2000.0\n",
      "141    2  2000.0\n",
      "\n",
      "\n",
      "\n",
      "Label 3:\n",
      "    sex    year\n",
      "8     2  1992.0\n",
      "15    2  1987.0\n",
      "19    2  1991.0\n",
      "30    1  1990.0\n",
      "36    2  1987.0\n",
      "39    2  1988.0\n",
      "56    2  1986.0\n",
      "60    2  1991.0\n",
      "70    1  1991.0\n",
      "89    1  1989.0\n",
      "\n",
      "\n",
      "\n",
      "Label 4:\n",
      "      sex    year\n",
      "14      2  1975.0\n",
      "363     2  1960.0\n",
      "441     2  1972.0\n",
      "465     1  1965.0\n",
      "474     1  1969.0\n",
      "732     1  1970.0\n",
      "736     1  1975.0\n",
      "776     2  1962.0\n",
      "872     2  1973.0\n",
      "1894    2  1967.0\n",
      "\n",
      "\n",
      "\n",
      "Label 5:\n",
      "     sex    year\n",
      "1      1  1983.0\n",
      "6      1  1984.0\n",
      "87     2  1977.0\n",
      "140    2  1984.0\n",
      "269    1  1984.0\n",
      "405    2  1977.0\n",
      "414    2  1984.0\n",
      "510    2  1984.0\n",
      "565    2  1983.0\n",
      "594    2  1978.0\n"
     ]
    }
   ],
   "source": [
    "colums = ['sex', 'year']\n",
    "for label in range(cluster_count):\n",
    "    print(f'Label {label}:')\n",
    "    print(profiles[profiles['label'] == label][colums][:10])\n",
    "    if label < cluster_count - 1:\n",
    "        print('\\n\\n')"
   ],
   "metadata": {
    "collapsed": false,
    "pycharm": {
     "name": "#%%\n"
    }
   }
  },
  {
   "cell_type": "code",
   "execution_count": 19,
   "metadata": {},
   "outputs": [],
   "source": [
    "# Load Russian model\n",
    "nlp = spacy.load(\"ru_core_news_md\")\n",
    "\n",
    "def get_vector(text):\n",
    "    if pd.notnull(text):\n",
    "        doc = nlp(text)\n",
    "        return doc.vector\n",
    "    else:\n",
    "        return np.zeros(300)"
   ]
  },
  {
   "cell_type": "code",
   "execution_count": 20,
   "outputs": [
    {
     "name": "stdout",
     "output_type": "stream",
     "text": [
      "train wishes: 68492\n",
      "vector array is ready\n"
     ]
    },
    {
     "name": "stderr",
     "output_type": "stream",
     "text": [
      "<ipython-input-20-a0fde75b167c>:8: SettingWithCopyWarning: \n",
      "A value is trying to be set on a copy of a slice from a DataFrame.\n",
      "Try using .loc[row_indexer,col_indexer] = value instead\n",
      "\n",
      "See the caveats in the documentation: https://pandas.pydata.org/pandas-docs/stable/user_guide/indexing.html#returning-a-view-versus-a-copy\n",
      "  train_wishes['vector'] = vector_array\n"
     ]
    },
    {
     "data": {
      "text/plain": "                         id                       ctime  \\\n0  591cb63b314b62000f186f41  2017-05-17 20:44:43.000000   \n1  5929c6a11bfc73000f07774d  2017-05-27 18:34:09.000000   \n2  592e6636424d49000ffc4a93  2017-05-31 06:44:06.000000   \n3  592fe527424d49000ffc4aaf  2017-06-01 09:57:59.000000   \n4  59536890c5fcf0000f7b71ec  2017-06-28 08:28:00.000000   \n\n                        mtime                creator_id  \\\n0  2017-05-31 09:20:21.000000  59161d458ef861000f59f975   \n1  2017-05-27 18:34:09.000000  59161d458ef861000f59f975   \n2  2017-05-31 07:22:01.000000  591831f18ef861000f59f981   \n3  2017-06-21 09:09:31.000000  59161d458ef861000f59f975   \n4  2017-06-28 08:28:00.000000  59161d458ef861000f59f975   \n\n                                               title           description  \\\n0                                             No Pic                   NaN   \n1                                          Private!!  my very private wish   \n2                                                 xx                   NaN   \n3  https://www.amazon.com/dp/B015TJD0Y4/ref=ods_g...                   NaN   \n4                                     Apple HomePod                    NaN   \n\n     price    color link  is_private  is_fulfilled currency  \\\n0   1000.0  #02b7b3  NaN       False         False      RUB   \n1  10000.0  #4a4a4a  NaN        True         False      RUB   \n2      NaN  #782d92  NaN       False          True      RUB   \n3      NaN  #B24D00  NaN       False         False      RUB   \n4      NaN  #008c79  NaN       False         False      RUB   \n\n                assignee_id  is_idea parent_wish_id  is_from_idea  is_deleted  \\\n0  591774818ef861000f59f97f    False            NaN         False       False   \n1                       NaN    False            NaN         False       False   \n2                       NaN    False            NaN         False       False   \n3                       NaN    False            NaN         False       False   \n4                       NaN    False            NaN         False       False   \n\n   photo_id                                             vector  \n0       NaN  [0.0, 0.0, 0.0, 0.0, 0.0, 0.0, 0.0, 0.0, 0.0, ...  \n1       NaN  [0.0, 0.0, 0.0, 0.0, 0.0, 0.0, 0.0, 0.0, 0.0, ...  \n2       NaN  [-0.2938254, -0.2968786, -0.025342526, 0.71376...  \n3       NaN  [0.0, 0.0, 0.0, 0.0, 0.0, 0.0, 0.0, 0.0, 0.0, ...  \n4       NaN  [0.0, 0.0, 0.0, 0.0, 0.0, 0.0, 0.0, 0.0, 0.0, ...  ",
      "text/html": "<div>\n<style scoped>\n    .dataframe tbody tr th:only-of-type {\n        vertical-align: middle;\n    }\n\n    .dataframe tbody tr th {\n        vertical-align: top;\n    }\n\n    .dataframe thead th {\n        text-align: right;\n    }\n</style>\n<table border=\"1\" class=\"dataframe\">\n  <thead>\n    <tr style=\"text-align: right;\">\n      <th></th>\n      <th>id</th>\n      <th>ctime</th>\n      <th>mtime</th>\n      <th>creator_id</th>\n      <th>title</th>\n      <th>description</th>\n      <th>price</th>\n      <th>color</th>\n      <th>link</th>\n      <th>is_private</th>\n      <th>is_fulfilled</th>\n      <th>currency</th>\n      <th>assignee_id</th>\n      <th>is_idea</th>\n      <th>parent_wish_id</th>\n      <th>is_from_idea</th>\n      <th>is_deleted</th>\n      <th>photo_id</th>\n      <th>vector</th>\n    </tr>\n  </thead>\n  <tbody>\n    <tr>\n      <th>0</th>\n      <td>591cb63b314b62000f186f41</td>\n      <td>2017-05-17 20:44:43.000000</td>\n      <td>2017-05-31 09:20:21.000000</td>\n      <td>59161d458ef861000f59f975</td>\n      <td>No Pic</td>\n      <td>NaN</td>\n      <td>1000.0</td>\n      <td>#02b7b3</td>\n      <td>NaN</td>\n      <td>False</td>\n      <td>False</td>\n      <td>RUB</td>\n      <td>591774818ef861000f59f97f</td>\n      <td>False</td>\n      <td>NaN</td>\n      <td>False</td>\n      <td>False</td>\n      <td>NaN</td>\n      <td>[0.0, 0.0, 0.0, 0.0, 0.0, 0.0, 0.0, 0.0, 0.0, ...</td>\n    </tr>\n    <tr>\n      <th>1</th>\n      <td>5929c6a11bfc73000f07774d</td>\n      <td>2017-05-27 18:34:09.000000</td>\n      <td>2017-05-27 18:34:09.000000</td>\n      <td>59161d458ef861000f59f975</td>\n      <td>Private!!</td>\n      <td>my very private wish</td>\n      <td>10000.0</td>\n      <td>#4a4a4a</td>\n      <td>NaN</td>\n      <td>True</td>\n      <td>False</td>\n      <td>RUB</td>\n      <td>NaN</td>\n      <td>False</td>\n      <td>NaN</td>\n      <td>False</td>\n      <td>False</td>\n      <td>NaN</td>\n      <td>[0.0, 0.0, 0.0, 0.0, 0.0, 0.0, 0.0, 0.0, 0.0, ...</td>\n    </tr>\n    <tr>\n      <th>2</th>\n      <td>592e6636424d49000ffc4a93</td>\n      <td>2017-05-31 06:44:06.000000</td>\n      <td>2017-05-31 07:22:01.000000</td>\n      <td>591831f18ef861000f59f981</td>\n      <td>xx</td>\n      <td>NaN</td>\n      <td>NaN</td>\n      <td>#782d92</td>\n      <td>NaN</td>\n      <td>False</td>\n      <td>True</td>\n      <td>RUB</td>\n      <td>NaN</td>\n      <td>False</td>\n      <td>NaN</td>\n      <td>False</td>\n      <td>False</td>\n      <td>NaN</td>\n      <td>[-0.2938254, -0.2968786, -0.025342526, 0.71376...</td>\n    </tr>\n    <tr>\n      <th>3</th>\n      <td>592fe527424d49000ffc4aaf</td>\n      <td>2017-06-01 09:57:59.000000</td>\n      <td>2017-06-21 09:09:31.000000</td>\n      <td>59161d458ef861000f59f975</td>\n      <td>https://www.amazon.com/dp/B015TJD0Y4/ref=ods_g...</td>\n      <td>NaN</td>\n      <td>NaN</td>\n      <td>#B24D00</td>\n      <td>NaN</td>\n      <td>False</td>\n      <td>False</td>\n      <td>RUB</td>\n      <td>NaN</td>\n      <td>False</td>\n      <td>NaN</td>\n      <td>False</td>\n      <td>False</td>\n      <td>NaN</td>\n      <td>[0.0, 0.0, 0.0, 0.0, 0.0, 0.0, 0.0, 0.0, 0.0, ...</td>\n    </tr>\n    <tr>\n      <th>4</th>\n      <td>59536890c5fcf0000f7b71ec</td>\n      <td>2017-06-28 08:28:00.000000</td>\n      <td>2017-06-28 08:28:00.000000</td>\n      <td>59161d458ef861000f59f975</td>\n      <td>Apple HomePod</td>\n      <td>NaN</td>\n      <td>NaN</td>\n      <td>#008c79</td>\n      <td>NaN</td>\n      <td>False</td>\n      <td>False</td>\n      <td>RUB</td>\n      <td>NaN</td>\n      <td>False</td>\n      <td>NaN</td>\n      <td>False</td>\n      <td>False</td>\n      <td>NaN</td>\n      <td>[0.0, 0.0, 0.0, 0.0, 0.0, 0.0, 0.0, 0.0, 0.0, ...</td>\n    </tr>\n  </tbody>\n</table>\n</div>"
     },
     "execution_count": 20,
     "metadata": {},
     "output_type": "execute_result"
    }
   ],
   "source": [
    "train_wishes = wishes[(wishes['is_deleted'] == False) & pd.notna(wishes['title'])]\n",
    "print('train wishes:', len(train_wishes))\n",
    "\n",
    "train_titles = train_wishes['title']\n",
    "vector_array = [get_vector(title) for title in train_titles]\n",
    "print('vector array is ready')\n",
    "\n",
    "train_wishes['vector'] = vector_array\n",
    "train_wishes.head()"
   ],
   "metadata": {
    "collapsed": false,
    "pycharm": {
     "name": "#%%\n"
    }
   }
  },
  {
   "cell_type": "code",
   "execution_count": 21,
   "metadata": {},
   "outputs": [],
   "source": [
    "cluster_count = 10\n",
    "kmeans = KMeans(n_clusters=cluster_count, random_state=0).fit(vector_array)\n",
    "w_label = pd.DataFrame({'title': train_titles, 'label': kmeans.labels_})"
   ]
  },
  {
   "cell_type": "code",
   "execution_count": 22,
   "metadata": {
    "pycharm": {
     "name": "#%%\n"
    }
   },
   "outputs": [
    {
     "name": "stdout",
     "output_type": "stream",
     "text": [
      "Lable 0:\n",
      "\n",
      "71                                            Белая кофта\n",
      "131                                         Новая игрушка\n",
      "159                               Пижама новогодняя, ТВОЕ\n",
      "219                         детская кашемировая шапочка. \n",
      "302                              Пастушья корона (черная)\n",
      "338                  Аккумуляторная отвертка XIAOMI Mijia\n",
      "387                               Настольная игра Декодер\n",
      "390                                     Bluetooth колонка\n",
      "463                                               платье \n",
      "465                                          сумка kenzo \n",
      "469                                        белая орхидея \n",
      "476                                ручная! соковыжималка \n",
      "585                            Ирригатор для полости рта \n",
      "605     Levi's                         Мужская джинсов...\n",
      "693                                           Арт блокнот\n",
      "696                                      Мраморная скалка\n",
      "733     Электрическая зубная щетка Philips DiamondClea...\n",
      "885                                      пальма Хамедорея\n",
      "919      Матовая помада с металлическим эффектом SMASHBOX\n",
      "1220                                      Конная прогулка\n",
      "Name: title, dtype: object\n",
      "\n",
      "\n",
      "\n",
      "Lable 1:\n",
      "\n",
      "0                                                No Pic\n",
      "1                                             Private!!\n",
      "2                                                    xx\n",
      "3     https://www.amazon.com/dp/B015TJD0Y4/ref=ods_g...\n",
      "4                                        Apple HomePod \n",
      "5                                                   ttt\n",
      "6                            Алкогольные чернила Ranger\n",
      "7                                            Mazda mx-5\n",
      "8                                              iPhone X\n",
      "9                                 Devialet Phantom Gold\n",
      "10                                        Samsung Note8\n",
      "11                                                Книга\n",
      "12                                                  Jbl\n",
      "15                                    Спортивная форма \n",
      "16                                Курс массажа b-flexy \n",
      "17                                             Norwina \n",
      "18                                                Фондю\n",
      "20                                              AirPods\n",
      "22                       Посетить Московский Планетарий\n",
      "23                                        AirPods Apple\n",
      "Name: title, dtype: object\n",
      "\n",
      "\n",
      "\n",
      "Lable 2:\n",
      "\n",
      "37                Попить горячий шоколад на крыше\n",
      "413                                  Вкусный чай \n",
      "755                          Пачка зернового кофе\n",
      "1078                   Подставка для бутылок вина\n",
      "1122                              бокалы для вина\n",
      "1214                   Подставка для бутылок вина\n",
      "1350                       Открывалка для бутылок\n",
      "1380                   Подставка для бутылок вина\n",
      "1475                         Украшения к сладкому\n",
      "1836                    Копилка для винных пробок\n",
      "1838    Подставка для столовых приборов Stag Head\n",
      "1894                             Я Бросила курить\n",
      "2172                             Я бросила курить\n",
      "2296                                Маска для сна\n",
      "2298             Японский виски Nikka Coffey Malt\n",
      "2335                            Настольный футбол\n",
      "2453        Курс по дегустации и завариванию кофе\n",
      "2559                             Молочный шоколад\n",
      "2708                                   Чёрный чай\n",
      "2923                        Джиггер для коктейлей\n",
      "Name: title, dtype: object\n",
      "\n",
      "\n",
      "\n",
      "Lable 3:\n",
      "\n",
      "21                                      Sack of Bitcoins\n",
      "62                         Умные весы MGB Body fat scale\n",
      "77                                     Зубная щётка QUIP\n",
      "137                                          Macbook pro\n",
      "158                                    Пиджак pache wear\n",
      "193                                       Wakejet cruise\n",
      "198    Beoplay A1 - A portable speaker that plays up ...\n",
      "202                                  Byredo mojave ghost\n",
      "213                                                кисть\n",
      "216                                 Набор маркеров Touch\n",
      "220                                    Mac book pro 2017\n",
      "271         Зубная щётка Philips SoniCare diamond clean \n",
      "280                          Ella Bag by Gabriela Hearst\n",
      "293    Игровая консоль Nintendo Switch (серый) + игра...\n",
      "409                                    Xiaomi power bank\n",
      "464                                       сумочка liu jo\n",
      "480                                              джинсы \n",
      "489       Artículos relacionados que le pueden interesar\n",
      "490                           calvin klein sheer beauty \n",
      "491                              Очки ray ban clubmaster\n",
      "Name: title, dtype: object\n",
      "\n",
      "\n",
      "\n",
      "Lable 4:\n",
      "\n",
      "246                         Антицеллюлитная пена для ванн\n",
      "285             Набор масла Talens \"Van Gogh\" 10 цв*20 мл\n",
      "474                             пенна или соль для ванны \n",
      "550                      Стеклянные салатники с крышками \n",
      "563     Пенка-шампунь для новорожденных 150 мл Mustela...\n",
      "627                                        baccarat 35 мл\n",
      "862                                Klorane сухой шампунь \n",
      "887                                    Перчатки для крема\n",
      "1010                                      St Barth масло \n",
      "1093                             Столик для ванны Romance\n",
      "1224                                  комнатные растения \n",
      "1301    Eau Nettoyante Очищающая вода для нормальной и...\n",
      "1372                                     Фарфоровое блюдо\n",
      "1494                                    Лакричные конфеты\n",
      "1518                               орешки с сухофруктами \n",
      "1550                                     Колготки в горох\n",
      "1557                                   Колготки в горошек\n",
      "1738                                 Кофейная смесь № 345\n",
      "1841                             Столик для ванны Romance\n",
      "1851                                Термос с ложкой Steel\n",
      "Name: title, dtype: object\n",
      "\n",
      "\n",
      "\n",
      "Lable 5:\n",
      "\n",
      "24                           Защита одежды и обуви Hydrop\n",
      "63                           Защита одежды и обуви Hydrop\n",
      "118                          Защита одежды и обуви Hydrop\n",
      "132                          Защита одежды и обуви Hydrop\n",
      "136                          Защита одежды и обуви Hydrop\n",
      "142                          Защита одежды и обуви Hydrop\n",
      "397                                     Винтажная посуда \n",
      "470        подарочный сертификат в магазин нижнего белья \n",
      "527                          Защита одежды и обуви Hydrop\n",
      "531                             Зимний спортивный костюм \n",
      "557                                Ящик для инструментов \n",
      "686                                        лухари тапочки\n",
      "706                     Разбор гардероба\\nот @sssanfirova\n",
      "1116                     Robocar Poli Игровой набор Мойка\n",
      "1376    набор травяных чаев http://botanicgarden.ru/pr...\n",
      "1561                               Набор игрушек из Поли \n",
      "1727                       Набор кухонных принадлежностей\n",
      "1814                                  Красная футболка F1\n",
      "1942                           Большой набор инструментов\n",
      "1992                                     Базовые футболки\n",
      "Name: title, dtype: object\n",
      "\n",
      "\n",
      "\n",
      "Lable 6:\n",
      "\n",
      "481                                       Лава-лампа\n",
      "545                                  Кожаный фартук \n",
      "908                              Ароматическая свеча\n",
      "1385                                Мой новый диван!\n",
      "1433                         Шапочку, поводок, лампу\n",
      "1847                                  классная свеча\n",
      "2115                             Косметическая лампа\n",
      "2234                                      Моя люстра\n",
      "2311                              Бумажная лампа-шар\n",
      "2568                                   Лавовая лампа\n",
      "2921                         Самонадувающийся коврик\n",
      "2960                                Туалетный столик\n",
      "3828                                  Неоновая лампа\n",
      "4170                                   Солевая лампа\n",
      "4305                                Настольная лампа\n",
      "4432                            Винтажный подсвечник\n",
      "4764                           Винтажный шарф Hermes\n",
      "4784                                      лава лампа\n",
      "5020    Светодиодная кольцевая лампа Fosoto FT-240RL\n",
      "5120                                    Аромат лампу\n",
      "Name: title, dtype: object\n",
      "\n",
      "\n",
      "\n",
      "Lable 7:\n",
      "\n",
      "34                                         Татуаж бровей\n",
      "176                                               одеяло\n",
      "177                                         нижнее белье\n",
      "215                                       шляпа с ушками\n",
      "239                                     Плойка для волос\n",
      "318                               Книга на книжной полке\n",
      "415                                     Букет в коробке \n",
      "453                                MacBook Pro 15 дюймов\n",
      "468                                             ботинки \n",
      "471                      красивые чёрные гелиевые ручки \n",
      "473                           спреи или маски для волос \n",
      "477                                              свитер \n",
      "479                                              свитер \n",
      "584     Женские летние синие солнцезащитные очки Versace\n",
      "760                           Подарочная карта на одежду\n",
      "929                                     Постельное белье\n",
      "1182                                    Спортивное белье\n",
      "1212                                Реконструктор волос \n",
      "1244                         Масло для волос Nashi Argan\n",
      "1365                               Красивое нижнее белье\n",
      "Name: title, dtype: object\n",
      "\n",
      "\n",
      "\n",
      "Lable 8:\n",
      "\n",
      "28                                        Место для тату\n",
      "40                       Попить Апероля с видом на закат\n",
      "42                             Побывать в Большом Театре\n",
      "44                    Полёт на авиатренажере Airbus 320 \n",
      "45                       Попить Апероля с видом на закат\n",
      "47                             Побывать в Большом Театре\n",
      "50                       Попить Апероля с видом на закат\n",
      "60                    Полёт на авиатренажере Airbus 320 \n",
      "68                             Побывать в Большом Театре\n",
      "70               Хочу чтобы ohmywishes работал без багов\n",
      "82        Умная метка Nut 2 против кражи  и потери вещей\n",
      "84                          Пожить в районе Маре (Париж)\n",
      "93                                     Серьги на цепочке\n",
      "94     Крем для рук. Есть купон на подарок если купит...\n",
      "97                                Поплавать с дельфинами\n",
      "98                        Наушники для города AfterShokz\n",
      "100                       Биван: целый диван  из воздуха\n",
      "101    Книга Даше на НГ от МИФ Придумай и нарисуй сво...\n",
      "102                         Гирлянда светяшка на зеркало\n",
      "115       Умная метка Nut 2 против кражи  и потери вещей\n",
      "Name: title, dtype: object\n",
      "\n",
      "\n",
      "\n",
      "Lable 9:\n",
      "\n",
      "13                             Руслану-гигантскую кружку\n",
      "14                              Папе руслана-кеды 2 мяча\n",
      "26                                     Курсы каллиграфии\n",
      "66                   On-line курс «Техники воскирования»\n",
      "86                                     Монстера домашняя\n",
      "88                                  Подарочная карта МИФ\n",
      "99                             3D принтер MC7 Prime mini\n",
      "110                                           В Нью йорк\n",
      "112    Профессиональный аккумуляторный триммер Moser ...\n",
      "125                 Автомобильный мини-пылесос Baseus A2\n",
      "139                              Mercedes-Benz G-klasse \n",
      "154                                Подарочный сертификат\n",
      "175                                     постельное бельё\n",
      "182                                       Платье марсала\n",
      "186                                              пылесос\n",
      "188                                              огоньки\n",
      "203                                   полусапоги красные\n",
      "226                                       Хороший штопор\n",
      "247                   On-line курс «Упаковка букета NEW»\n",
      "248             On-line курс «Окрашивание шелковых лент»\n",
      "Name: title, dtype: object\n",
      "\n",
      "\n",
      "\n"
     ]
    }
   ],
   "source": [
    "for label in range(cluster_count):\n",
    "    print(f'Lable {label}:\\n')\n",
    "    print(w_label[w_label['label'] == label][:20]['title'])\n",
    "    print('\\n\\n')\n"
   ]
  }
 ],
 "metadata": {
  "kernelspec": {
   "display_name": "Python 3",
   "language": "python",
   "name": "python3"
  },
  "language_info": {
   "codemirror_mode": {
    "name": "ipython",
    "version": 3
   },
   "file_extension": ".py",
   "mimetype": "text/x-python",
   "name": "python",
   "nbconvert_exporter": "python",
   "pygments_lexer": "ipython3",
   "version": "3.8.5"
  }
 },
 "nbformat": 4,
 "nbformat_minor": 2
}